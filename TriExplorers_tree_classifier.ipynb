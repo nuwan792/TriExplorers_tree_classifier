{
  "nbformat": 4,
  "nbformat_minor": 0,
  "metadata": {
    "colab": {
      "provenance": []
    },
    "kernelspec": {
      "name": "python3",
      "display_name": "Python 3"
    },
    "language_info": {
      "name": "python"
    }
  },
  "cells": [
    {
      "cell_type": "code",
      "execution_count": 20,
      "metadata": {
        "id": "F5AgWUQSYtoS"
      },
      "outputs": [],
      "source": [
        "import pandas as pd\n",
        "import numpy as np\n",
        "from sklearn.model_selection import train_test_split, KFold\n",
        "from sklearn.preprocessing import LabelEncoder, StandardScaler\n",
        "from sklearn.metrics import accuracy_score\n",
        "import tensorflow as tf\n",
        "from tensorflow.keras.models import Sequential\n",
        "from tensorflow.keras.layers import Dense, Dropout\n",
        "from tensorflow.keras.utils import to_categorical"
      ]
    },
    {
      "cell_type": "code",
      "source": [
        "# Step 1: Load the new dataset\n",
        "file_path = '/content/dataset _new.xlsx'\n",
        "df = pd.read_excel(file_path)"
      ],
      "metadata": {
        "id": "yVO8GFB3ZVkB"
      },
      "execution_count": 21,
      "outputs": []
    },
    {
      "cell_type": "code",
      "source": [
        "# Display the first few rows of the dataframe\n",
        "print(df.head())"
      ],
      "metadata": {
        "colab": {
          "base_uri": "https://localhost:8080/"
        },
        "id": "xF3mAFX8ZZUm",
        "outputId": "5c8999b4-06da-4281-a60a-01262164e589"
      },
      "execution_count": 22,
      "outputs": [
        {
          "output_type": "stream",
          "name": "stdout",
          "text": [
            "              Tree species  Ratio(width/Length)  \\\n",
            "0  Dimorphocalyx glabellus               0.3827   \n",
            "1  Dimorphocalyx glabellus               0.3520   \n",
            "2  Dimorphocalyx glabellus               0.3837   \n",
            "3  Dimorphocalyx glabellus               0.3589   \n",
            "4  Dimorphocalyx glabellus               0.3605   \n",
            "\n",
            "   Length of petiole of leaf(mm)  Angle(Degrees)  \n",
            "0                            9.0              48  \n",
            "1                           13.0              64  \n",
            "2                           10.0              63  \n",
            "3                           12.0              57  \n",
            "4                           10.0              72  \n"
          ]
        }
      ]
    },
    {
      "cell_type": "code",
      "source": [
        "# Step 2: Preprocess the dataset\n",
        "# Identify features and target variable\n",
        "features = ['Ratio(width/Length)', 'Length of petiole of leaf(mm)', 'Angle(Degrees)']\n",
        "target = 'Tree species'  # Replace this with the actual name of the target column in your dataset"
      ],
      "metadata": {
        "id": "tmt22ZdmZcXq"
      },
      "execution_count": 23,
      "outputs": []
    },
    {
      "cell_type": "code",
      "source": [
        "# Extract features and target variable\n",
        "X = df[features].values\n",
        "y = df[target].values"
      ],
      "metadata": {
        "id": "KnBOpJodZfDp"
      },
      "execution_count": 24,
      "outputs": []
    },
    {
      "cell_type": "code",
      "source": [
        "# Encode the target variable if it's categorical\n",
        "target_label_encoder = LabelEncoder()\n",
        "y = target_label_encoder.fit_transform(y)\n",
        "y = to_categorical(y)"
      ],
      "metadata": {
        "id": "XAmNVYVHZhpC"
      },
      "execution_count": 25,
      "outputs": []
    },
    {
      "cell_type": "code",
      "source": [
        "# Scale the features\n",
        "scaler = StandardScaler()\n",
        "X = scaler.fit_transform(X)"
      ],
      "metadata": {
        "id": "VdDZnbZqZkj0"
      },
      "execution_count": 26,
      "outputs": []
    },
    {
      "cell_type": "code",
      "source": [
        "# Split the data into training and testing sets\n",
        "X_train, X_test, y_train, y_test = train_test_split(X, y, test_size=0.2, random_state=42)"
      ],
      "metadata": {
        "id": "OyGr63DSvZoP"
      },
      "execution_count": 27,
      "outputs": []
    },
    {
      "cell_type": "code",
      "source": [
        "# Define a function to build the model\n",
        "def build_model():\n",
        "    model = Sequential()\n",
        "    model.add(Dense(128, input_dim=X.shape[1], activation='relu'))\n",
        "    model.add(Dropout(0.5))\n",
        "    model.add(Dense(64, activation='relu'))\n",
        "    model.add(Dropout(0.5))\n",
        "    model.add(Dense(y.shape[1], activation='softmax'))\n",
        "\n",
        "    model.compile(optimizer='adam', loss='categorical_crossentropy', metrics=['accuracy'])\n",
        "    return model"
      ],
      "metadata": {
        "id": "1uxfRJcefqbc"
      },
      "execution_count": 28,
      "outputs": []
    },
    {
      "cell_type": "code",
      "source": [
        "# Step 3: Use k-fold cross-validation to evaluate the model\n",
        "kf = KFold(n_splits=5, shuffle=True, random_state=42)\n",
        "all_accuracies = []"
      ],
      "metadata": {
        "id": "i9d8FXchgDF6"
      },
      "execution_count": 29,
      "outputs": []
    },
    {
      "cell_type": "code",
      "source": [
        "for train_index, val_index in kf.split(X):\n",
        "    X_train, X_val = X[train_index], X[val_index]\n",
        "    y_train, y_val = y[train_index], y[val_index]"
      ],
      "metadata": {
        "id": "nvfUQjJ3gIRj"
      },
      "execution_count": 30,
      "outputs": []
    },
    {
      "cell_type": "code",
      "source": [
        "\n",
        "model = build_model()\n",
        "history = model.fit(X_train, y_train, epochs=100, batch_size=32, validation_data=(X_val, y_val), verbose=0)"
      ],
      "metadata": {
        "id": "CLkLlQ3wj4iz"
      },
      "execution_count": 31,
      "outputs": []
    },
    {
      "cell_type": "code",
      "source": [
        "# Append the validation accuracy obtained during training\n",
        "val_accuracy = history.history['val_accuracy'][-1]\n",
        "all_accuracies.append(val_accuracy)"
      ],
      "metadata": {
        "id": "Rjn0LwlSj68e"
      },
      "execution_count": 32,
      "outputs": []
    },
    {
      "cell_type": "code",
      "source": [
        "average_accuracy = np.mean(all_accuracies)\n",
        "print(f'Average Validation Accuracy: {average_accuracy*100:.2f}%')"
      ],
      "metadata": {
        "colab": {
          "base_uri": "https://localhost:8080/"
        },
        "id": "I28VuEAhgRIV",
        "outputId": "7cc4a866-b125-4e99-acee-9e95f830c941"
      },
      "execution_count": 33,
      "outputs": [
        {
          "output_type": "stream",
          "name": "stdout",
          "text": [
            "Average Validation Accuracy: 71.43%\n"
          ]
        }
      ]
    },
    {
      "cell_type": "code",
      "source": [
        "# Step 4: Train the final model on the full training set\n",
        "model = build_model()\n",
        "history = model.fit(X, y, epochs=100, batch_size=32, validation_split=0.2, verbose=1)"
      ],
      "metadata": {
        "colab": {
          "base_uri": "https://localhost:8080/"
        },
        "id": "L8Nm-3NWgUaE",
        "outputId": "f945076b-95d3-44a8-a8b5-d6564e880c34"
      },
      "execution_count": 34,
      "outputs": [
        {
          "output_type": "stream",
          "name": "stdout",
          "text": [
            "Epoch 1/100\n",
            "3/3 [==============================] - 1s 110ms/step - loss: 1.2124 - accuracy: 0.2500 - val_loss: 1.0164 - val_accuracy: 0.6190\n",
            "Epoch 2/100\n",
            "3/3 [==============================] - 0s 19ms/step - loss: 1.0453 - accuracy: 0.4286 - val_loss: 1.0286 - val_accuracy: 0.5238\n",
            "Epoch 3/100\n",
            "3/3 [==============================] - 0s 19ms/step - loss: 1.0744 - accuracy: 0.4167 - val_loss: 1.0377 - val_accuracy: 0.5238\n",
            "Epoch 4/100\n",
            "3/3 [==============================] - 0s 29ms/step - loss: 1.0212 - accuracy: 0.5357 - val_loss: 1.0386 - val_accuracy: 0.5238\n",
            "Epoch 5/100\n",
            "3/3 [==============================] - 0s 27ms/step - loss: 0.9217 - accuracy: 0.6667 - val_loss: 1.0405 - val_accuracy: 0.5238\n",
            "Epoch 6/100\n",
            "3/3 [==============================] - 0s 18ms/step - loss: 0.8512 - accuracy: 0.7262 - val_loss: 1.0447 - val_accuracy: 0.5714\n",
            "Epoch 7/100\n",
            "3/3 [==============================] - 0s 18ms/step - loss: 0.7981 - accuracy: 0.7976 - val_loss: 1.0471 - val_accuracy: 0.5714\n",
            "Epoch 8/100\n",
            "3/3 [==============================] - 0s 27ms/step - loss: 0.8222 - accuracy: 0.6905 - val_loss: 1.0473 - val_accuracy: 0.5714\n",
            "Epoch 9/100\n",
            "3/3 [==============================] - 0s 18ms/step - loss: 0.7450 - accuracy: 0.7738 - val_loss: 1.0468 - val_accuracy: 0.5714\n",
            "Epoch 10/100\n",
            "3/3 [==============================] - 0s 18ms/step - loss: 0.6868 - accuracy: 0.8214 - val_loss: 1.0466 - val_accuracy: 0.5714\n",
            "Epoch 11/100\n",
            "3/3 [==============================] - 0s 27ms/step - loss: 0.6950 - accuracy: 0.8452 - val_loss: 1.0470 - val_accuracy: 0.5714\n",
            "Epoch 12/100\n",
            "3/3 [==============================] - 0s 19ms/step - loss: 0.6180 - accuracy: 0.8333 - val_loss: 1.0480 - val_accuracy: 0.5714\n",
            "Epoch 13/100\n",
            "3/3 [==============================] - 0s 18ms/step - loss: 0.6378 - accuracy: 0.8452 - val_loss: 1.0486 - val_accuracy: 0.5714\n",
            "Epoch 14/100\n",
            "3/3 [==============================] - 0s 18ms/step - loss: 0.5889 - accuracy: 0.7857 - val_loss: 1.0428 - val_accuracy: 0.5714\n",
            "Epoch 15/100\n",
            "3/3 [==============================] - 0s 18ms/step - loss: 0.5562 - accuracy: 0.8333 - val_loss: 1.0377 - val_accuracy: 0.5714\n",
            "Epoch 16/100\n",
            "3/3 [==============================] - 0s 18ms/step - loss: 0.5450 - accuracy: 0.7976 - val_loss: 1.0335 - val_accuracy: 0.5714\n",
            "Epoch 17/100\n",
            "3/3 [==============================] - 0s 20ms/step - loss: 0.5138 - accuracy: 0.8690 - val_loss: 1.0314 - val_accuracy: 0.5714\n",
            "Epoch 18/100\n",
            "3/3 [==============================] - 0s 34ms/step - loss: 0.4890 - accuracy: 0.8690 - val_loss: 1.0243 - val_accuracy: 0.5714\n",
            "Epoch 19/100\n",
            "3/3 [==============================] - 0s 36ms/step - loss: 0.4944 - accuracy: 0.8929 - val_loss: 1.0188 - val_accuracy: 0.5714\n",
            "Epoch 20/100\n",
            "3/3 [==============================] - 0s 35ms/step - loss: 0.4548 - accuracy: 0.8690 - val_loss: 1.0143 - val_accuracy: 0.5714\n",
            "Epoch 21/100\n",
            "3/3 [==============================] - 0s 34ms/step - loss: 0.4643 - accuracy: 0.8571 - val_loss: 1.0107 - val_accuracy: 0.5714\n",
            "Epoch 22/100\n",
            "3/3 [==============================] - 0s 40ms/step - loss: 0.3944 - accuracy: 0.8571 - val_loss: 1.0082 - val_accuracy: 0.5714\n",
            "Epoch 23/100\n",
            "3/3 [==============================] - 0s 28ms/step - loss: 0.4730 - accuracy: 0.8690 - val_loss: 1.0095 - val_accuracy: 0.5714\n",
            "Epoch 24/100\n",
            "3/3 [==============================] - 0s 34ms/step - loss: 0.4415 - accuracy: 0.8571 - val_loss: 1.0140 - val_accuracy: 0.5714\n",
            "Epoch 25/100\n",
            "3/3 [==============================] - 0s 35ms/step - loss: 0.4123 - accuracy: 0.8690 - val_loss: 1.0153 - val_accuracy: 0.5714\n",
            "Epoch 26/100\n",
            "3/3 [==============================] - 0s 26ms/step - loss: 0.4370 - accuracy: 0.8690 - val_loss: 1.0179 - val_accuracy: 0.5714\n",
            "Epoch 27/100\n",
            "3/3 [==============================] - 0s 26ms/step - loss: 0.4096 - accuracy: 0.8571 - val_loss: 1.0242 - val_accuracy: 0.5714\n",
            "Epoch 28/100\n",
            "3/3 [==============================] - 0s 32ms/step - loss: 0.4424 - accuracy: 0.8452 - val_loss: 1.0280 - val_accuracy: 0.5714\n",
            "Epoch 29/100\n",
            "3/3 [==============================] - 0s 33ms/step - loss: 0.4063 - accuracy: 0.8452 - val_loss: 1.0331 - val_accuracy: 0.5714\n",
            "Epoch 30/100\n",
            "3/3 [==============================] - 0s 32ms/step - loss: 0.3800 - accuracy: 0.8452 - val_loss: 1.0356 - val_accuracy: 0.5714\n",
            "Epoch 31/100\n",
            "3/3 [==============================] - 0s 23ms/step - loss: 0.3563 - accuracy: 0.8810 - val_loss: 1.0419 - val_accuracy: 0.6190\n",
            "Epoch 32/100\n",
            "3/3 [==============================] - 0s 41ms/step - loss: 0.3995 - accuracy: 0.8571 - val_loss: 1.0451 - val_accuracy: 0.6190\n",
            "Epoch 33/100\n",
            "3/3 [==============================] - 0s 32ms/step - loss: 0.3749 - accuracy: 0.8571 - val_loss: 1.0552 - val_accuracy: 0.6190\n",
            "Epoch 34/100\n",
            "3/3 [==============================] - 0s 37ms/step - loss: 0.3533 - accuracy: 0.9048 - val_loss: 1.0602 - val_accuracy: 0.6190\n",
            "Epoch 35/100\n",
            "3/3 [==============================] - 0s 33ms/step - loss: 0.4139 - accuracy: 0.8571 - val_loss: 1.0652 - val_accuracy: 0.6190\n",
            "Epoch 36/100\n",
            "3/3 [==============================] - 0s 27ms/step - loss: 0.3693 - accuracy: 0.8333 - val_loss: 1.0692 - val_accuracy: 0.6667\n",
            "Epoch 37/100\n",
            "3/3 [==============================] - 0s 33ms/step - loss: 0.3347 - accuracy: 0.9167 - val_loss: 1.0823 - val_accuracy: 0.6190\n",
            "Epoch 38/100\n",
            "3/3 [==============================] - 0s 36ms/step - loss: 0.3567 - accuracy: 0.8810 - val_loss: 1.0961 - val_accuracy: 0.6190\n",
            "Epoch 39/100\n",
            "3/3 [==============================] - 0s 38ms/step - loss: 0.3902 - accuracy: 0.8690 - val_loss: 1.1052 - val_accuracy: 0.6190\n",
            "Epoch 40/100\n",
            "3/3 [==============================] - 0s 36ms/step - loss: 0.3455 - accuracy: 0.8452 - val_loss: 1.1106 - val_accuracy: 0.6190\n",
            "Epoch 41/100\n",
            "3/3 [==============================] - 0s 38ms/step - loss: 0.3061 - accuracy: 0.8810 - val_loss: 1.1185 - val_accuracy: 0.6190\n",
            "Epoch 42/100\n",
            "3/3 [==============================] - 0s 35ms/step - loss: 0.3444 - accuracy: 0.8690 - val_loss: 1.1234 - val_accuracy: 0.6667\n",
            "Epoch 43/100\n",
            "3/3 [==============================] - 0s 32ms/step - loss: 0.3198 - accuracy: 0.8333 - val_loss: 1.1272 - val_accuracy: 0.6667\n",
            "Epoch 44/100\n",
            "3/3 [==============================] - 0s 33ms/step - loss: 0.3113 - accuracy: 0.8690 - val_loss: 1.1361 - val_accuracy: 0.6667\n",
            "Epoch 45/100\n",
            "3/3 [==============================] - 0s 35ms/step - loss: 0.3184 - accuracy: 0.9167 - val_loss: 1.1455 - val_accuracy: 0.6667\n",
            "Epoch 46/100\n",
            "3/3 [==============================] - 0s 31ms/step - loss: 0.3021 - accuracy: 0.8929 - val_loss: 1.1483 - val_accuracy: 0.6667\n",
            "Epoch 47/100\n",
            "3/3 [==============================] - 0s 34ms/step - loss: 0.3217 - accuracy: 0.8810 - val_loss: 1.1476 - val_accuracy: 0.6667\n",
            "Epoch 48/100\n",
            "3/3 [==============================] - 0s 34ms/step - loss: 0.2613 - accuracy: 0.9286 - val_loss: 1.1518 - val_accuracy: 0.6667\n",
            "Epoch 49/100\n",
            "3/3 [==============================] - 0s 26ms/step - loss: 0.3309 - accuracy: 0.8810 - val_loss: 1.1534 - val_accuracy: 0.6667\n",
            "Epoch 50/100\n",
            "3/3 [==============================] - 0s 33ms/step - loss: 0.2685 - accuracy: 0.9048 - val_loss: 1.1545 - val_accuracy: 0.6667\n",
            "Epoch 51/100\n",
            "3/3 [==============================] - 0s 40ms/step - loss: 0.3476 - accuracy: 0.8810 - val_loss: 1.1607 - val_accuracy: 0.6667\n",
            "Epoch 52/100\n",
            "3/3 [==============================] - 0s 34ms/step - loss: 0.3497 - accuracy: 0.8810 - val_loss: 1.1799 - val_accuracy: 0.6667\n",
            "Epoch 53/100\n",
            "3/3 [==============================] - 0s 39ms/step - loss: 0.2725 - accuracy: 0.8810 - val_loss: 1.2026 - val_accuracy: 0.6667\n",
            "Epoch 54/100\n",
            "3/3 [==============================] - 0s 27ms/step - loss: 0.2821 - accuracy: 0.9048 - val_loss: 1.2188 - val_accuracy: 0.6667\n",
            "Epoch 55/100\n",
            "3/3 [==============================] - 0s 35ms/step - loss: 0.2863 - accuracy: 0.8929 - val_loss: 1.2304 - val_accuracy: 0.6667\n",
            "Epoch 56/100\n",
            "3/3 [==============================] - 0s 32ms/step - loss: 0.3486 - accuracy: 0.8929 - val_loss: 1.2364 - val_accuracy: 0.6667\n",
            "Epoch 57/100\n",
            "3/3 [==============================] - 0s 38ms/step - loss: 0.2798 - accuracy: 0.8929 - val_loss: 1.2404 - val_accuracy: 0.6667\n",
            "Epoch 58/100\n",
            "3/3 [==============================] - 0s 37ms/step - loss: 0.3234 - accuracy: 0.8929 - val_loss: 1.2379 - val_accuracy: 0.6667\n",
            "Epoch 59/100\n",
            "3/3 [==============================] - 0s 37ms/step - loss: 0.3183 - accuracy: 0.8929 - val_loss: 1.2561 - val_accuracy: 0.6667\n",
            "Epoch 60/100\n",
            "3/3 [==============================] - 0s 41ms/step - loss: 0.2447 - accuracy: 0.9048 - val_loss: 1.2669 - val_accuracy: 0.6667\n",
            "Epoch 61/100\n",
            "3/3 [==============================] - 0s 28ms/step - loss: 0.2401 - accuracy: 0.9167 - val_loss: 1.2633 - val_accuracy: 0.6667\n",
            "Epoch 62/100\n",
            "3/3 [==============================] - 0s 28ms/step - loss: 0.3317 - accuracy: 0.8810 - val_loss: 1.2604 - val_accuracy: 0.6667\n",
            "Epoch 63/100\n",
            "3/3 [==============================] - 0s 18ms/step - loss: 0.3014 - accuracy: 0.8690 - val_loss: 1.2592 - val_accuracy: 0.6667\n",
            "Epoch 64/100\n",
            "3/3 [==============================] - 0s 18ms/step - loss: 0.2600 - accuracy: 0.9167 - val_loss: 1.2657 - val_accuracy: 0.6667\n",
            "Epoch 65/100\n",
            "3/3 [==============================] - 0s 29ms/step - loss: 0.2640 - accuracy: 0.8929 - val_loss: 1.2734 - val_accuracy: 0.6667\n",
            "Epoch 66/100\n",
            "3/3 [==============================] - 0s 27ms/step - loss: 0.3007 - accuracy: 0.9048 - val_loss: 1.2821 - val_accuracy: 0.6667\n",
            "Epoch 67/100\n",
            "3/3 [==============================] - 0s 18ms/step - loss: 0.3011 - accuracy: 0.8929 - val_loss: 1.2854 - val_accuracy: 0.6667\n",
            "Epoch 68/100\n",
            "3/3 [==============================] - 0s 27ms/step - loss: 0.3067 - accuracy: 0.8929 - val_loss: 1.2878 - val_accuracy: 0.6667\n",
            "Epoch 69/100\n",
            "3/3 [==============================] - 0s 20ms/step - loss: 0.3176 - accuracy: 0.8810 - val_loss: 1.2779 - val_accuracy: 0.6667\n",
            "Epoch 70/100\n",
            "3/3 [==============================] - 0s 17ms/step - loss: 0.2610 - accuracy: 0.9286 - val_loss: 1.2655 - val_accuracy: 0.6667\n",
            "Epoch 71/100\n",
            "3/3 [==============================] - 0s 18ms/step - loss: 0.2587 - accuracy: 0.8929 - val_loss: 1.2601 - val_accuracy: 0.6667\n",
            "Epoch 72/100\n",
            "3/3 [==============================] - 0s 29ms/step - loss: 0.2537 - accuracy: 0.9048 - val_loss: 1.2589 - val_accuracy: 0.6667\n",
            "Epoch 73/100\n",
            "3/3 [==============================] - 0s 19ms/step - loss: 0.2685 - accuracy: 0.9048 - val_loss: 1.2624 - val_accuracy: 0.6667\n",
            "Epoch 74/100\n",
            "3/3 [==============================] - 0s 19ms/step - loss: 0.2734 - accuracy: 0.8929 - val_loss: 1.2832 - val_accuracy: 0.6667\n",
            "Epoch 75/100\n",
            "3/3 [==============================] - 0s 27ms/step - loss: 0.2634 - accuracy: 0.9167 - val_loss: 1.3149 - val_accuracy: 0.6667\n",
            "Epoch 76/100\n",
            "3/3 [==============================] - 0s 18ms/step - loss: 0.2778 - accuracy: 0.8810 - val_loss: 1.3470 - val_accuracy: 0.6667\n",
            "Epoch 77/100\n",
            "3/3 [==============================] - 0s 19ms/step - loss: 0.2836 - accuracy: 0.9048 - val_loss: 1.3704 - val_accuracy: 0.6667\n",
            "Epoch 78/100\n",
            "3/3 [==============================] - 0s 18ms/step - loss: 0.3335 - accuracy: 0.8929 - val_loss: 1.3854 - val_accuracy: 0.6667\n",
            "Epoch 79/100\n",
            "3/3 [==============================] - 0s 20ms/step - loss: 0.2642 - accuracy: 0.9048 - val_loss: 1.3914 - val_accuracy: 0.6667\n",
            "Epoch 80/100\n",
            "3/3 [==============================] - 0s 18ms/step - loss: 0.2566 - accuracy: 0.8929 - val_loss: 1.3942 - val_accuracy: 0.6667\n",
            "Epoch 81/100\n",
            "3/3 [==============================] - 0s 18ms/step - loss: 0.2988 - accuracy: 0.9048 - val_loss: 1.3951 - val_accuracy: 0.6667\n",
            "Epoch 82/100\n",
            "3/3 [==============================] - 0s 27ms/step - loss: 0.2955 - accuracy: 0.9167 - val_loss: 1.3855 - val_accuracy: 0.6667\n",
            "Epoch 83/100\n",
            "3/3 [==============================] - 0s 28ms/step - loss: 0.2692 - accuracy: 0.8810 - val_loss: 1.3720 - val_accuracy: 0.6667\n",
            "Epoch 84/100\n",
            "3/3 [==============================] - 0s 33ms/step - loss: 0.2434 - accuracy: 0.9167 - val_loss: 1.3594 - val_accuracy: 0.6667\n",
            "Epoch 85/100\n",
            "3/3 [==============================] - 0s 20ms/step - loss: 0.2730 - accuracy: 0.9048 - val_loss: 1.3608 - val_accuracy: 0.6667\n",
            "Epoch 86/100\n",
            "3/3 [==============================] - 0s 19ms/step - loss: 0.2327 - accuracy: 0.9286 - val_loss: 1.3716 - val_accuracy: 0.6667\n",
            "Epoch 87/100\n",
            "3/3 [==============================] - 0s 27ms/step - loss: 0.2099 - accuracy: 0.9405 - val_loss: 1.3811 - val_accuracy: 0.6667\n",
            "Epoch 88/100\n",
            "3/3 [==============================] - 0s 26ms/step - loss: 0.2473 - accuracy: 0.9405 - val_loss: 1.3799 - val_accuracy: 0.6667\n",
            "Epoch 89/100\n",
            "3/3 [==============================] - 0s 30ms/step - loss: 0.2716 - accuracy: 0.9048 - val_loss: 1.3887 - val_accuracy: 0.6667\n",
            "Epoch 90/100\n",
            "3/3 [==============================] - 0s 28ms/step - loss: 0.2909 - accuracy: 0.8929 - val_loss: 1.3974 - val_accuracy: 0.6667\n",
            "Epoch 91/100\n",
            "3/3 [==============================] - 0s 20ms/step - loss: 0.2312 - accuracy: 0.9167 - val_loss: 1.3998 - val_accuracy: 0.6667\n",
            "Epoch 92/100\n",
            "3/3 [==============================] - 0s 18ms/step - loss: 0.2457 - accuracy: 0.8929 - val_loss: 1.3979 - val_accuracy: 0.6667\n",
            "Epoch 93/100\n",
            "3/3 [==============================] - 0s 28ms/step - loss: 0.2738 - accuracy: 0.9048 - val_loss: 1.3899 - val_accuracy: 0.6667\n",
            "Epoch 94/100\n",
            "3/3 [==============================] - 0s 19ms/step - loss: 0.2590 - accuracy: 0.8690 - val_loss: 1.3795 - val_accuracy: 0.6667\n",
            "Epoch 95/100\n",
            "3/3 [==============================] - 0s 19ms/step - loss: 0.2578 - accuracy: 0.9048 - val_loss: 1.3673 - val_accuracy: 0.6667\n",
            "Epoch 96/100\n",
            "3/3 [==============================] - 0s 19ms/step - loss: 0.2438 - accuracy: 0.9167 - val_loss: 1.3631 - val_accuracy: 0.6667\n",
            "Epoch 97/100\n",
            "3/3 [==============================] - 0s 26ms/step - loss: 0.2439 - accuracy: 0.9286 - val_loss: 1.3729 - val_accuracy: 0.6667\n",
            "Epoch 98/100\n",
            "3/3 [==============================] - 0s 19ms/step - loss: 0.2539 - accuracy: 0.8929 - val_loss: 1.3832 - val_accuracy: 0.6667\n",
            "Epoch 99/100\n",
            "3/3 [==============================] - 0s 18ms/step - loss: 0.2180 - accuracy: 0.9286 - val_loss: 1.4008 - val_accuracy: 0.6667\n",
            "Epoch 100/100\n",
            "3/3 [==============================] - 0s 19ms/step - loss: 0.2227 - accuracy: 0.9286 - val_loss: 1.4147 - val_accuracy: 0.6667\n"
          ]
        }
      ]
    },
    {
      "cell_type": "code",
      "source": [
        "# Step 5: Evaluate the model\n",
        "loss, accuracy = model.evaluate(X_test, y_test)\n",
        "print(f'Test Accuracy: {accuracy*100:.2f}%')"
      ],
      "metadata": {
        "colab": {
          "base_uri": "https://localhost:8080/"
        },
        "id": "OLqI_stpZ3BR",
        "outputId": "c8e556b4-dd7d-47c4-b404-4a0582bf30f3"
      },
      "execution_count": 35,
      "outputs": [
        {
          "output_type": "stream",
          "name": "stdout",
          "text": [
            "1/1 [==============================] - 0s 29ms/step - loss: 0.4243 - accuracy: 0.9048\n",
            "Test Accuracy: 90.48%\n"
          ]
        }
      ]
    },
    {
      "cell_type": "code",
      "source": [
        "import matplotlib.pyplot as plt\n",
        "\n",
        "# Assuming 'history' is defined earlier in your code\n",
        "history_dict = history.history\n",
        "loss = history_dict['loss']\n",
        "val_loss = history_dict['val_loss']\n",
        "epochs = range(1, len(loss) + 1)\n",
        "\n",
        "plt.plot(epochs, loss, 'r', label='Training loss')\n",
        "plt.plot(epochs, val_loss, 'b', label='Validation loss')\n",
        "plt.title('Training and validation loss')\n",
        "plt.xlabel('Epochs')\n",
        "plt.ylabel('Loss')\n",
        "plt.legend()\n",
        "plt.show()"
      ],
      "metadata": {
        "colab": {
          "base_uri": "https://localhost:8080/",
          "height": 472
        },
        "id": "C6pcjC4feyNl",
        "outputId": "dd823094-d3b8-4367-8f5f-42d574d00657"
      },
      "execution_count": 36,
      "outputs": [
        {
          "output_type": "display_data",
          "data": {
            "text/plain": [
              "<Figure size 640x480 with 1 Axes>"
            ],
            "image/png": "[encoded data removed]"
          },
          "metadata": {}
        }
      ]
    },
    {
      "cell_type": "code",
      "source": [
        "# Function to preprocess input data and make predictions\n",
        "def predict_tree_species(input_features):\n",
        "    # Convert input features to a dataframe for easier processing\n",
        "    input_df = pd.DataFrame([input_features], columns=features)\n",
        "\n",
        "    # Scale the features\n",
        "    input_scaled = scaler.transform(input_df)\n",
        "\n",
        "    # Make predictions\n",
        "    prediction = model.predict(input_scaled)\n",
        "    predicted_class = np.argmax(prediction, axis=1)\n",
        "\n",
        "    # Convert the predicted class back to the original label\n",
        "    predicted_species = target_label_encoder.inverse_transform(predicted_class)\n",
        "    return predicted_species[0]"
      ],
      "metadata": {
        "id": "Z-1qPVxzZ8zo"
      },
      "execution_count": 37,
      "outputs": []
    },
    {
      "cell_type": "code",
      "source": [
        "# Example usage\n",
        "input_features = {\n",
        "    'Ratio(width/Length)': 0.33,  # Replace with actual feature values\n",
        "    'Length of petiole of leaf(mm)': 8.00,\n",
        "    'Angle(Degrees)': 59.0\n",
        "}\n",
        "\n",
        "predicted_species = predict_tree_species(input_features)\n",
        "print(f'Predicted Tree Species: {predicted_species}')\n"
      ],
      "metadata": {
        "colab": {
          "base_uri": "https://localhost:8080/"
        },
        "id": "3tdGvdOjaA2v",
        "outputId": "42d7ad93-5cea-4ff3-8ffc-d21dd5962dd9"
      },
      "execution_count": 38,
      "outputs": [
        {
          "output_type": "stream",
          "name": "stdout",
          "text": [
            "1/1 [==============================] - 0s 101ms/step\n",
            "Predicted Tree Species: Diospyros ovalifolia\n"
          ]
        },
        {
          "output_type": "stream",
          "name": "stderr",
          "text": [
            "/usr/local/lib/python3.10/dist-packages/sklearn/base.py:432: UserWarning: X has feature names, but StandardScaler was fitted without feature names\n",
            "  warnings.warn(\n"
          ]
        }
      ]
    },
    {
      "cell_type": "code",
      "source": [],
      "metadata": {
        "id": "HqVXBCVQvrpu"
      },
      "execution_count": 38,
      "outputs": []
    }
  ]
}